{
 "cells": [
  {
   "cell_type": "code",
   "execution_count": 1,
   "id": "bde64ae6",
   "metadata": {},
   "outputs": [],
   "source": [
    "import numpy as np\n",
    "import pandas as pd\n",
    "import seaborn as sns\n",
    "from sklearn.model_selection import train_test_split\n",
    "from sklearn.neighbors import KNeighborsClassifier\n",
    "from sklearn.ensemble import RandomForestClassifier\n",
    "from sklearn.metrics import confusion_matrix, accuracy_score\n",
    "from sklearn.linear_model import LogisticRegression\n",
    "from sklearn.linear_model import SGDClassifier"
   ]
  },
  {
   "cell_type": "code",
   "execution_count": 2,
   "id": "da61544a",
   "metadata": {},
   "outputs": [
    {
     "data": {
      "text/html": [
       "<div>\n",
       "<style scoped>\n",
       "    .dataframe tbody tr th:only-of-type {\n",
       "        vertical-align: middle;\n",
       "    }\n",
       "\n",
       "    .dataframe tbody tr th {\n",
       "        vertical-align: top;\n",
       "    }\n",
       "\n",
       "    .dataframe thead th {\n",
       "        text-align: right;\n",
       "    }\n",
       "</style>\n",
       "<table border=\"1\" class=\"dataframe\">\n",
       "  <thead>\n",
       "    <tr style=\"text-align: right;\">\n",
       "      <th></th>\n",
       "      <th>Longitude</th>\n",
       "      <th>Latitude</th>\n",
       "      <th>Target</th>\n",
       "      <th>Aspect</th>\n",
       "      <th>Curvature</th>\n",
       "      <th>Rainfall_Pentad</th>\n",
       "      <th>River_dist_mts</th>\n",
       "      <th>Geology_Age</th>\n",
       "      <th>Geomorphology</th>\n",
       "      <th>Slope</th>\n",
       "      <th>Roads_dist_mts</th>\n",
       "      <th>Soil_type</th>\n",
       "    </tr>\n",
       "  </thead>\n",
       "  <tbody>\n",
       "    <tr>\n",
       "      <th>0</th>\n",
       "      <td>78.6686</td>\n",
       "      <td>29.6060</td>\n",
       "      <td>0</td>\n",
       "      <td>1.0</td>\n",
       "      <td>1</td>\n",
       "      <td>291.079712</td>\n",
       "      <td>8.0</td>\n",
       "      <td>12.0</td>\n",
       "      <td>3.0</td>\n",
       "      <td>1.0</td>\n",
       "      <td>33.0</td>\n",
       "      <td>2.0</td>\n",
       "    </tr>\n",
       "    <tr>\n",
       "      <th>1</th>\n",
       "      <td>78.5801</td>\n",
       "      <td>29.6423</td>\n",
       "      <td>0</td>\n",
       "      <td>9.0</td>\n",
       "      <td>1</td>\n",
       "      <td>279.338501</td>\n",
       "      <td>18.0</td>\n",
       "      <td>12.0</td>\n",
       "      <td>3.0</td>\n",
       "      <td>1.0</td>\n",
       "      <td>34.0</td>\n",
       "      <td>6.0</td>\n",
       "    </tr>\n",
       "    <tr>\n",
       "      <th>2</th>\n",
       "      <td>78.7672</td>\n",
       "      <td>29.5183</td>\n",
       "      <td>0</td>\n",
       "      <td>4.0</td>\n",
       "      <td>3</td>\n",
       "      <td>284.128448</td>\n",
       "      <td>0.0</td>\n",
       "      <td>12.0</td>\n",
       "      <td>3.0</td>\n",
       "      <td>1.0</td>\n",
       "      <td>0.0</td>\n",
       "      <td>6.0</td>\n",
       "    </tr>\n",
       "    <tr>\n",
       "      <th>3</th>\n",
       "      <td>78.7203</td>\n",
       "      <td>29.6353</td>\n",
       "      <td>0</td>\n",
       "      <td>4.0</td>\n",
       "      <td>2</td>\n",
       "      <td>288.563385</td>\n",
       "      <td>16.0</td>\n",
       "      <td>12.0</td>\n",
       "      <td>3.0</td>\n",
       "      <td>1.0</td>\n",
       "      <td>61.0</td>\n",
       "      <td>6.0</td>\n",
       "    </tr>\n",
       "    <tr>\n",
       "      <th>4</th>\n",
       "      <td>78.6307</td>\n",
       "      <td>29.5928</td>\n",
       "      <td>0</td>\n",
       "      <td>5.0</td>\n",
       "      <td>3</td>\n",
       "      <td>275.110107</td>\n",
       "      <td>51.0</td>\n",
       "      <td>12.0</td>\n",
       "      <td>3.0</td>\n",
       "      <td>1.0</td>\n",
       "      <td>29.0</td>\n",
       "      <td>2.0</td>\n",
       "    </tr>\n",
       "  </tbody>\n",
       "</table>\n",
       "</div>"
      ],
      "text/plain": [
       "   Longitude  Latitude  Target  Aspect  Curvature  Rainfall_Pentad  \\\n",
       "0    78.6686   29.6060       0     1.0          1       291.079712   \n",
       "1    78.5801   29.6423       0     9.0          1       279.338501   \n",
       "2    78.7672   29.5183       0     4.0          3       284.128448   \n",
       "3    78.7203   29.6353       0     4.0          2       288.563385   \n",
       "4    78.6307   29.5928       0     5.0          3       275.110107   \n",
       "\n",
       "   River_dist_mts  Geology_Age  Geomorphology  Slope  Roads_dist_mts  \\\n",
       "0             8.0         12.0            3.0    1.0            33.0   \n",
       "1            18.0         12.0            3.0    1.0            34.0   \n",
       "2             0.0         12.0            3.0    1.0             0.0   \n",
       "3            16.0         12.0            3.0    1.0            61.0   \n",
       "4            51.0         12.0            3.0    1.0            29.0   \n",
       "\n",
       "   Soil_type  \n",
       "0        2.0  \n",
       "1        6.0  \n",
       "2        6.0  \n",
       "3        6.0  \n",
       "4        2.0  "
      ]
     },
     "execution_count": 2,
     "metadata": {},
     "output_type": "execute_result"
    }
   ],
   "source": [
    "#cols=['age','sex','cp','trestbps','chol','fbs','restecg','thalach','exang','oldpeak','slope','ca','thal','target']\n",
    "#df=pd.read_csv('cleveland.data', names=cols)\n",
    "df=pd.read_csv('aseesh.csv')\n",
    "#df['Target'].nunique()\n",
    "df.head()"
   ]
  },
  {
   "cell_type": "code",
   "execution_count": 3,
   "id": "39da45c2",
   "metadata": {},
   "outputs": [
    {
     "data": {
      "text/plain": [
       "(4971, 12)"
      ]
     },
     "execution_count": 3,
     "metadata": {},
     "output_type": "execute_result"
    }
   ],
   "source": [
    "#df['target'] = df['target'].replace([2,3,4],1)\n",
    "#sns.countplot(x='target',data=df)\n",
    "#df.dtypes\n",
    "#df.head()\n",
    "df.shape"
   ]
  },
  {
   "cell_type": "markdown",
   "id": "3ce64127",
   "metadata": {},
   "source": [
    "### Attribute Information: ###\n",
    "\n",
    "1. age                                                          2. sex      \n",
    "3. chest pain type (4 values)                                   4. resting blood pressure         \n",
    "5. serum cholestoral in mg/dl                                   6. fasting blood sugar > 120 mg/dl   \n",
    "7. resting electrocardiographic results (values 0,1,2)          8. maximum heart rate achieved\n",
    "9. exercise induced angina                                      10. oldpeak = ST depression induced by exercise relative to rest  11. the slope of the peak exercise ST segment                   12. number of major vessels (0-3) colored by flourosopy       13. thal: 0 = normal; 1 = fixed defect; 2 = reversable defect   14. Target"
   ]
  },
  {
   "cell_type": "code",
   "execution_count": 4,
   "id": "e00e35cf",
   "metadata": {},
   "outputs": [],
   "source": [
    "#df = df.replace('?', np.nan)\n",
    "df.dropna(inplace=True)"
   ]
  },
  {
   "cell_type": "code",
   "execution_count": 5,
   "id": "4e15af67",
   "metadata": {},
   "outputs": [
    {
     "data": {
      "text/plain": [
       "0    0\n",
       "1    0\n",
       "2    0\n",
       "3    0\n",
       "4    0\n",
       "Name: Target, dtype: int64"
      ]
     },
     "execution_count": 5,
     "metadata": {},
     "output_type": "execute_result"
    }
   ],
   "source": [
    "#df['ca'] = df['ca'].astype(float)\n",
    "#df['thal'] = df['thal'].astype(float)\n",
    "output=df.Target\n",
    "data=df.drop(['Target','Latitude','Longitude'],axis=1)\n",
    "output.head()"
   ]
  },
  {
   "cell_type": "code",
   "execution_count": 6,
   "id": "e9fd8c8b",
   "metadata": {},
   "outputs": [
    {
     "data": {
      "text/plain": [
       "Index(['Longitude', 'Latitude', 'Target', 'Aspect', 'Curvature',\n",
       "       'Rainfall_Pentad', 'River_dist_mts', 'Geology_Age', 'Geomorphology',\n",
       "       'Slope', 'Roads_dist_mts', 'Soil_type'],\n",
       "      dtype='object')"
      ]
     },
     "execution_count": 6,
     "metadata": {},
     "output_type": "execute_result"
    }
   ],
   "source": [
    "cols=df.columns\n",
    "cols"
   ]
  },
  {
   "cell_type": "code",
   "execution_count": 7,
   "id": "2be65d0d",
   "metadata": {
    "scrolled": true
   },
   "outputs": [],
   "source": [
    "# #Lasso Feature Selection\n",
    "\n",
    "# from sklearn import linear_model\n",
    "# regressor = linear_model.Lasso(alpha=0.15)\n",
    "# regressor.fit(data, output)\n",
    "# weights1=regressor.coef_\n",
    "# weights1=[abs(i) for i in weights1]\n",
    "# cols=['age','sex','cp','trestbps','chol','fbs','restecg','thalach','exang','oldpeak','slope','ca','thal']\n",
    "# lasso = pd.DataFrame()\n",
    "# lasso['features']=cols\n",
    "# lasso['lasso']=weights1\n",
    "# #lasso=lasso.sort_values('lasso',ascending=False)\n",
    "# lasso.head()\n",
    "# regressor.coef_\n",
    "\n",
    "\n"
   ]
  },
  {
   "cell_type": "code",
   "execution_count": 8,
   "id": "1d6564ff",
   "metadata": {},
   "outputs": [],
   "source": [
    "#Information Gain Feature selection\n",
    "\n",
    "# from sklearn.feature_selection import mutual_info_classif\n",
    "# import matplotlib.pyplot as plt\n",
    "# %matplotlib inline\n",
    "\n",
    "# weights1=mutual_info_classif(data,output)\n",
    "\n",
    "\n",
    "# cols=['Aspect', 'Curvature','Rainfall_Pentad', 'River_dist_mts', 'Geology_Age', 'Geomorphology','Slope', 'Roads_dist_mts', 'Soil_type']\n",
    "# mi = pd.DataFrame()\n",
    "# mi['features']=cols\n",
    "# mi['Mutaul_Info']=weights1\n",
    "# #lasso=lasso.sort_values('lasso',ascending=False)\n",
    "# mi.head()"
   ]
  },
  {
   "cell_type": "code",
   "execution_count": 9,
   "id": "bcefd98b",
   "metadata": {},
   "outputs": [],
   "source": [
    "#MRMR Feature selection\n",
    "\n",
    "# data1=data.assign(target=output)\n",
    "# relation=data1.corr()\n",
    "# #cols=['age','sex','cp','trestbps','chol','fbs','restecg','thalach','exang','oldpeak','slope','ca','thal']\n",
    "# weight=[]\n",
    "# mrmr= pd.DataFrame()\n",
    "# for feature in cols:\n",
    "#     rel=abs(relation[feature]['target'])\n",
    "#     red=0\n",
    "#     for feature2 in cols:\n",
    "#         if(feature!=feature2):\n",
    "#             red=red+abs(relation[feature][feature2])\n",
    "#     weight.append(rel/red)\n",
    "# mrmr['features']=cols\n",
    "# mrmr['mrmr']=weight\n",
    "# #mrmr=mrmr.sort_values('mrmr',ascending=False)\n",
    "# mrmr.head()"
   ]
  },
  {
   "cell_type": "code",
   "execution_count": 10,
   "id": "dbe37ddb",
   "metadata": {
    "scrolled": true
   },
   "outputs": [],
   "source": [
    "# import sklearn_relief as relief\n",
    "\n",
    "# X = np.array(data)\n",
    "# Y = np.array(output)\n",
    "\n",
    "# r = relief.Relief(n_features=10)\n",
    "\n",
    "# my_transformed_matrix = r.fit_transform(X,Y)\n",
    "# weights3=r.w_\n",
    "# relief= pd.DataFrame()\n",
    "# relief['features']=cols\n",
    "# relief['relief']=weights3\n",
    "# relief.head()"
   ]
  },
  {
   "cell_type": "code",
   "execution_count": 11,
   "id": "35dce8af",
   "metadata": {},
   "outputs": [],
   "source": [
    "# norm_wt1  = [float(i)/sum(weights1) for i in weights1]\n",
    "# norm_wt2  = [float(i)/sum(weight) for i in weight]\n",
    "# norm_wt3  = [float(i)/sum(weights3) for i in weights3]\n",
    "# Ensembled_weights=[]\n",
    "# for i in range(len(norm_wt1)):\n",
    "#     k=norm_wt2[i]+norm_wt2[i]+norm_wt3[i]\n",
    "#     Ensembled_weights.append(k);\n",
    "# #Ensembled_weights\n",
    "# Final_weights= pd.DataFrame()\n",
    "# Final_weights['features']=cols\n",
    "# Final_weights['ensemble']=Ensembled_weights\n",
    "# Final_weights=Final_weights.sort_values('ensemble',ascending=False)\n",
    "# Final_Features=list(Final_weights.head(9).features)\n",
    "# Final_Features"
   ]
  },
  {
   "cell_type": "code",
   "execution_count": 12,
   "id": "8ac6b5b5",
   "metadata": {},
   "outputs": [],
   "source": [
    "# final_df=data[Final_Features]\n",
    "# final_df.head()\n",
    "# # data=final_df\n",
    "# # data"
   ]
  },
  {
   "cell_type": "code",
   "execution_count": 13,
   "id": "1594bb55",
   "metadata": {},
   "outputs": [],
   "source": [
    "# from sklearn.preprocessing import MinMaxScaler\n",
    "# scaler = MinMaxScaler()\n",
    "# data = scaler.fit_transform(data)\n",
    "# data = pd.DataFrame(data,columns=cols)\n",
    "# data\n",
    "\n",
    "#min_max normalization\n",
    "data=(data-data.min())/(data.max()-data.min())\n",
    "#data.head()"
   ]
  },
  {
   "cell_type": "code",
   "execution_count": 14,
   "id": "f4fcb9f4",
   "metadata": {},
   "outputs": [],
   "source": [
    "x_train,x_test,y_train,y_test=train_test_split(data,output,test_size=0.2,random_state=42)"
   ]
  },
  {
   "cell_type": "code",
   "execution_count": 15,
   "id": "5de62c6d",
   "metadata": {},
   "outputs": [],
   "source": [
    "# from sklearn.model_selection import GridSearchCV\n",
    "# LR = LogisticRegression()\n",
    "# LRparam_grid = {\n",
    "#     'C': [0.001, 0.01, 0.1, 1, 10, 100, 1000],\n",
    "#     'penalty': ['l2'],\n",
    "#     'max_iter': list(range(100,800,100)),\n",
    "#     'solver': ['newton-cg', 'lbfgs', 'liblinear', 'sag', 'saga']\n",
    "# }\n",
    "# LR_search = GridSearchCV(LR, param_grid=LRparam_grid, refit = True, verbose = 3, cv=5)\n",
    "\n",
    "# # fitting the model for grid search \n",
    "# LR_search.fit(x_train , y_train)\n",
    "# LR_search.best_params_\n",
    "# # summarize\n",
    "# print('Mean Accuracy: %.3f' % LR_search.best_score_)\n",
    "# print('Config: %s' % LR_search.best_params_)"
   ]
  },
  {
   "cell_type": "code",
   "execution_count": 16,
   "id": "5c0d6c07",
   "metadata": {},
   "outputs": [
    {
     "data": {
      "text/plain": [
       "2338    0\n",
       "1860    0\n",
       "3580    0\n",
       "192     1\n",
       "4471    0\n",
       "Name: Target, dtype: int64"
      ]
     },
     "execution_count": 16,
     "metadata": {},
     "output_type": "execute_result"
    }
   ],
   "source": [
    "y_train.head()"
   ]
  },
  {
   "cell_type": "code",
   "execution_count": 17,
   "id": "991db639",
   "metadata": {},
   "outputs": [
    {
     "data": {
      "text/plain": [
       "0.6639260020554985"
      ]
     },
     "execution_count": 17,
     "metadata": {},
     "output_type": "execute_result"
    }
   ],
   "source": [
    "\n",
    "from sklearn.linear_model import LogisticRegression\n",
    "from sklearn.pipeline import make_pipeline\n",
    "from sklearn.ensemble import BaggingClassifier\n",
    "\n",
    "pipeline1 = LogisticRegression(random_state = 1,C= 1, penalty= 'l2',max_iter =100, solver = 'newton-cg')\n",
    "#pipeline = make_pipeline(StandardScaler(),\n",
    "#                        LogisticRegression(random_state=1))\n",
    "bgclassifier1 = BaggingClassifier(base_estimator=pipeline1, n_estimators=100,\n",
    "                                 max_features=9,\n",
    "                                 max_samples=100,\n",
    "                                 random_state=1, n_jobs=5)\n",
    "bgclassifier1.fit(x_train, y_train)\n",
    "\n",
    "# print('Model test Score: %.3f, ' %bgclassifier1.score(x_test, y_test),\n",
    "#       'Model training Score: %.3f' %bgclassifier1.score(x_train, y_train))\n",
    "y_pred = bgclassifier1.predict(x_test)\n",
    "ac = accuracy_score(y_test, y_pred)\n",
    "ac"
   ]
  },
  {
   "cell_type": "code",
   "execution_count": 18,
   "id": "50f353ff",
   "metadata": {},
   "outputs": [],
   "source": [
    "# #GridsearchCV for decision tree\n",
    "# from sklearn.tree import DecisionTreeClassifier\n",
    "\n",
    "# param_grid = {\n",
    "#               'ccp_alpha': [0.1, .01, .001],\n",
    "#               'max_depth' : [5, 6, 7, 8, 9],\n",
    "#               'criterion' :['gini', 'entropy']\n",
    "#              }\n",
    "# tree_clas = DecisionTreeClassifier(random_state=1024)\n",
    "# dt_search = GridSearchCV(estimator=tree_clas, param_grid=param_grid, cv=5, verbose=True)\n",
    "# dt_search.fit(x_train, y_train)\n",
    "\n",
    "# print('Mean Accuracy: %.3f' % dt_search.best_score_)\n",
    "# print('Config: %s' % dt_search.best_params_)"
   ]
  },
  {
   "cell_type": "code",
   "execution_count": 20,
   "id": "05399031",
   "metadata": {},
   "outputs": [
    {
     "data": {
      "text/plain": [
       "0.8437821171634121"
      ]
     },
     "execution_count": 20,
     "metadata": {},
     "output_type": "execute_result"
    }
   ],
   "source": [
    "from sklearn.tree import DecisionTreeClassifier\n",
    "pipeline2 = DecisionTreeClassifier(random_state = 10,ccp_alpha= 0.01, max_depth= 4)\n",
    "#pipeline = make_pipeline(StandardScaler(),\n",
    "#                        LogisticRegression(random_state=1))\n",
    "bgclassifier2 = BaggingClassifier(base_estimator=pipeline2, n_estimators=1000,\n",
    "                                 max_features=6,\n",
    "                                 max_samples=1000,\n",
    "                                 random_state=1, n_jobs=5)\n",
    "bgclassifier2.fit(x_train, y_train)\n",
    "\n",
    "# print('Model test Score: %.3f, ' %bgclassifier2.score(x_test, y_test),\n",
    "#       'Model training Score: %.3f' %bgclassifier2.score(x_train, y_train))\n",
    "\n",
    "y_pred1 = bgclassifier2.predict(x_test)\n",
    "ac1 = accuracy_score(y_test, y_pred1)\n",
    "ac1"
   ]
  },
  {
   "cell_type": "code",
   "execution_count": 21,
   "id": "1ab2a9a3",
   "metadata": {},
   "outputs": [],
   "source": [
    "# k_range = list(range(5, 31))\n",
    "# param_grid = dict(n_neighbors=k_range)\n",
    "# knn_search = GridSearchCV(KNeighborsClassifier(), param_grid, cv=5, verbose=True)\n",
    "# knn_search.fit(x_train, y_train)\n",
    "# print('Mean Accuracy: %.3f' % knn_search.best_score_)\n",
    "# print('Config: %s' % knn_search.best_params_)"
   ]
  },
  {
   "cell_type": "code",
   "execution_count": 22,
   "id": "b5724222",
   "metadata": {},
   "outputs": [
    {
     "data": {
      "text/plain": [
       "0.7440904419321686"
      ]
     },
     "execution_count": 22,
     "metadata": {},
     "output_type": "execute_result"
    }
   ],
   "source": [
    "pipeline3 = KNeighborsClassifier(n_neighbors=10)\n",
    "#pipeline = make_pipeline(StandardScaler(),\n",
    "#                        LogisticRegression(random_state=1))\n",
    "bgclassifier3 = BaggingClassifier(base_estimator=pipeline3, n_estimators=100,\n",
    "                                 max_features=9,\n",
    "                                 max_samples=100,\n",
    "                                 random_state=1, n_jobs=5)\n",
    "bgclassifier3.fit(x_train, y_train)\n",
    "\n",
    "# print('Model test Score: %.3f, ' %bgclassifier3.score(x_test, y_test),\n",
    "#       'Model training Score: %.3f' %bgclassifier3.score(x_train, y_train))\n",
    "\n",
    "y_pred2 = bgclassifier3.predict(x_test)\n",
    "ac2 = accuracy_score(y_test, y_pred2)\n",
    "ac2"
   ]
  },
  {
   "cell_type": "code",
   "execution_count": 23,
   "id": "12bb27d4",
   "metadata": {},
   "outputs": [],
   "source": [
    "# #GridsearchCV for decision tree\n",
    "# from sklearn.tree import DecisionTreeClassifier\n",
    "\n",
    "# param_grid = {\n",
    "#               'ccp_alpha': [0.1, .01, .001],\n",
    "#               'max_depth' : [5, 6, 7, 8, 9],\n",
    "#               'criterion' :['gini', 'entropy']\n",
    "#              }\n",
    "# tree_clas = DecisionTreeClassifier(random_state=1024)\n",
    "# dt_search = GridSearchCV(estimator=tree_clas, param_grid=param_grid, cv=5, verbose=True)\n",
    "# dt_search.fit(x_train, y_train)\n",
    "\n",
    "# print('Mean Accuracy: %.3f' % dt_search.best_score_)\n",
    "# print('Config: %s' % dt_search.best_params_)"
   ]
  },
  {
   "cell_type": "code",
   "execution_count": 24,
   "id": "8f36a68c",
   "metadata": {},
   "outputs": [
    {
     "data": {
      "text/plain": [
       "0.8437821171634121"
      ]
     },
     "execution_count": 24,
     "metadata": {},
     "output_type": "execute_result"
    }
   ],
   "source": [
    "from sklearn.ensemble import StackingClassifier\n",
    "clf1 = bgclassifier1\n",
    "clf2 = bgclassifier2\n",
    "clf3 = bgclassifier3\n",
    "lr = LogisticRegression(random_state = 1,C= 1, penalty= 'l2',max_iter =1000, solver = 'newton-cg')\n",
    "estimators = [('lr', clf1),('dt', clf2),('knn',clf3)]#,('lrr',pipeline1),('dtt',pipeline2),('knnn',pipeline3)]\n",
    "clf = StackingClassifier(estimators=estimators, final_estimator=lr)\n",
    "clf.fit(x_train,y_train)\n",
    "y_pred3 = clf.predict(x_test)\n",
    "cm3 = confusion_matrix(y_test, y_pred3)\n",
    "ac3 = accuracy_score(y_test, y_pred3)\n",
    "ac3"
   ]
  },
  {
   "cell_type": "code",
   "execution_count": 25,
   "id": "e66206cb",
   "metadata": {},
   "outputs": [
    {
     "name": "stdout",
     "output_type": "stream",
     "text": [
      "[0.6639260020554985, 0.8437821171634121, 0.7440904419321686, 0.8437821171634121]\n"
     ]
    }
   ],
   "source": [
    "acc=[ac,ac1,ac2,ac3]\n",
    "print(acc)"
   ]
  }
 ],
 "metadata": {
  "kernelspec": {
   "display_name": "Python 3 (ipykernel)",
   "language": "python",
   "name": "python3"
  },
  "language_info": {
   "codemirror_mode": {
    "name": "ipython",
    "version": 3
   },
   "file_extension": ".py",
   "mimetype": "text/x-python",
   "name": "python",
   "nbconvert_exporter": "python",
   "pygments_lexer": "ipython3",
   "version": "3.10.4"
  }
 },
 "nbformat": 4,
 "nbformat_minor": 5
}
